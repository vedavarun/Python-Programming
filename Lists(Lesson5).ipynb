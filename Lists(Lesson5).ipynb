{
  "nbformat": 4,
  "nbformat_minor": 0,
  "metadata": {
    "colab": {
      "name": "Lists.ipynb",
      "provenance": [],
      "collapsed_sections": [],
      "authorship_tag": "ABX9TyN5YUBZYHTTrtJSEl0SQvpp",
      "include_colab_link": true
    },
    "kernelspec": {
      "name": "python3",
      "display_name": "Python 3"
    },
    "language_info": {
      "name": "python"
    }
  },
  "cells": [
    {
      "cell_type": "markdown",
      "metadata": {
        "id": "view-in-github",
        "colab_type": "text"
      },
      "source": [
        "<a href=\"https://colab.research.google.com/github/vedavarun/Python-Programming/blob/main/Lists(Lesson6).ipynb\" target=\"_parent\"><img src=\"https://colab.research.google.com/assets/colab-badge.svg\" alt=\"Open In Colab\"/></a>"
      ]
    },
    {
      "cell_type": "markdown",
      "source": [
        "# Lists"
      ],
      "metadata": {
        "id": "wMf13QhvQWeN"
      }
    },
    {
      "cell_type": "code",
      "source": [
        "my_countries = ['France', 'Sweden', 'UK']\n",
        "my_countries"
      ],
      "metadata": {
        "colab": {
          "base_uri": "https://localhost:8080/"
        },
        "id": "A5H2UiokQcl6",
        "outputId": "a48918aa-3d52-41ac-cdf1-6f69bc4c117a"
      },
      "execution_count": 1,
      "outputs": [
        {
          "output_type": "execute_result",
          "data": {
            "text/plain": [
              "['France', 'Sweden', 'UK']"
            ]
          },
          "metadata": {},
          "execution_count": 1
        }
      ]
    },
    {
      "cell_type": "code",
      "source": [
        "my_fruits = ['Banana', 'Mango']\n",
        "my_fruits"
      ],
      "metadata": {
        "colab": {
          "base_uri": "https://localhost:8080/"
        },
        "id": "IzikFY8BRbmh",
        "outputId": "cc8b176b-3715-46c3-a2cf-0a0f94871835"
      },
      "execution_count": 2,
      "outputs": [
        {
          "output_type": "execute_result",
          "data": {
            "text/plain": [
              "['Banana', 'Mango']"
            ]
          },
          "metadata": {},
          "execution_count": 2
        }
      ]
    },
    {
      "cell_type": "code",
      "source": [
        "my_countries.pop() #pop from the end of the list"
      ],
      "metadata": {
        "colab": {
          "base_uri": "https://localhost:8080/",
          "height": 38
        },
        "id": "OqQ9cwynRhk2",
        "outputId": "b1687e01-20e1-49a7-a2a0-039c930a5738"
      },
      "execution_count": 3,
      "outputs": [
        {
          "output_type": "execute_result",
          "data": {
            "application/vnd.google.colaboratory.intrinsic+json": {
              "type": "string"
            },
            "text/plain": [
              "'UK'"
            ]
          },
          "metadata": {},
          "execution_count": 3
        }
      ]
    },
    {
      "cell_type": "code",
      "source": [
        "new_list = my_fruits + my_countries\n",
        "new_list"
      ],
      "metadata": {
        "colab": {
          "base_uri": "https://localhost:8080/"
        },
        "id": "E5gAZPSdRkjK",
        "outputId": "d670c1dd-6c0d-4f50-b4a9-3be0c88cf04b"
      },
      "execution_count": 5,
      "outputs": [
        {
          "output_type": "execute_result",
          "data": {
            "text/plain": [
              "['Banana', 'Mango', 'France', 'Sweden']"
            ]
          },
          "metadata": {},
          "execution_count": 5
        }
      ]
    },
    {
      "cell_type": "code",
      "source": [
        "import random\n",
        "random.choice(new_list) #picks a random element from your list"
      ],
      "metadata": {
        "colab": {
          "base_uri": "https://localhost:8080/",
          "height": 38
        },
        "id": "MSK027YzRqIl",
        "outputId": "5d242b60-f3c3-4f62-d449-69fe0a302467"
      },
      "execution_count": 7,
      "outputs": [
        {
          "output_type": "execute_result",
          "data": {
            "application/vnd.google.colaboratory.intrinsic+json": {
              "type": "string"
            },
            "text/plain": [
              "'Banana'"
            ]
          },
          "metadata": {},
          "execution_count": 7
        }
      ]
    },
    {
      "cell_type": "code",
      "source": [
        "s = 'awesome'\n",
        "' '.join(random.sample(s, 5))"
      ],
      "metadata": {
        "colab": {
          "base_uri": "https://localhost:8080/",
          "height": 38
        },
        "id": "NpaYYkunRyrz",
        "outputId": "3c10141c-5fdb-40b3-cce8-6ae78487524d"
      },
      "execution_count": 11,
      "outputs": [
        {
          "output_type": "execute_result",
          "data": {
            "application/vnd.google.colaboratory.intrinsic+json": {
              "type": "string"
            },
            "text/plain": [
              "'e s w e m'"
            ]
          },
          "metadata": {},
          "execution_count": 11
        }
      ]
    },
    {
      "cell_type": "markdown",
      "source": [
        "# Project"
      ],
      "metadata": {
        "id": "95756q31Sdpa"
      }
    },
    {
      "cell_type": "markdown",
      "source": [
        "Jumbled Game"
      ],
      "metadata": {
        "id": "0oPitswaTSS_"
      }
    },
    {
      "cell_type": "code",
      "source": [
        "import random\n",
        "word_list = ['father', 'enterprise', 'science', 'yellow', 'United Kingdom', 'Trouble']\n",
        "random_word = random.choice(word_list)\n",
        "\n",
        "jumble_random_word = ' '.join(random.sample(random_word, len(random_word)))\n",
        "user_input = input(f'Can you guess what this jumbled up word is - {jumble_random_word}? ')\n",
        "\n",
        "if user_input in word_list:\n",
        "  print(f\"Hurrah! You guessed the '{jumble_random_word}' correctly and the answer is {random_word}\")\n",
        "else:\n",
        "  print('Sorry that is wrong')\n"
      ],
      "metadata": {
        "colab": {
          "base_uri": "https://localhost:8080/"
        },
        "id": "ASwzpys3TVcW",
        "outputId": "facbcf1d-59da-45ae-a427-4ba1aa8d9c1c"
      },
      "execution_count": 18,
      "outputs": [
        {
          "output_type": "stream",
          "name": "stdout",
          "text": [
            "Can you guess what this jumbled up word is - e t e s r e p r n i? chai\n",
            "Sorry that is wrong\n"
          ]
        }
      ]
    },
    {
      "cell_type": "code",
      "source": [
        ""
      ],
      "metadata": {
        "id": "0isVBN__VrmF"
      },
      "execution_count": null,
      "outputs": []
    }
  ]
}
