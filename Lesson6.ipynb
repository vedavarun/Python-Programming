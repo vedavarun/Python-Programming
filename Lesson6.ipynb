{
  "nbformat": 4,
  "nbformat_minor": 0,
  "metadata": {
    "colab": {
      "name": "For&while loop.ipynb",
      "provenance": [],
      "collapsed_sections": [],
      "authorship_tag": "ABX9TyOOXrMjZbtdGiY63mdILDMK",
      "include_colab_link": true
    },
    "kernelspec": {
      "name": "python3",
      "display_name": "Python 3"
    },
    "language_info": {
      "name": "python"
    }
  },
  "cells": [
    {
      "cell_type": "markdown",
      "metadata": {
        "id": "view-in-github",
        "colab_type": "text"
      },
      "source": [
        "<a href=\"https://colab.research.google.com/github/vedavarun/Python-Programming/blob/main/Lesson6.ipynb\" target=\"_parent\"><img src=\"https://colab.research.google.com/assets/colab-badge.svg\" alt=\"Open In Colab\"/></a>"
      ]
    },
    {
      "cell_type": "markdown",
      "source": [
        "# Loops"
      ],
      "metadata": {
        "id": "8KWwJuUTYShH"
      }
    },
    {
      "cell_type": "markdown",
      "source": [
        "For Loop"
      ],
      "metadata": {
        "id": "uEWqwBhTYeq6"
      }
    },
    {
      "cell_type": "code",
      "source": [
        "my_list = ['India', 'Netherlands', 'Germany', 'U.K.']\n",
        "my_list"
      ],
      "metadata": {
        "colab": {
          "base_uri": "https://localhost:8080/"
        },
        "id": "D8O-O8zrYiOp",
        "outputId": "e75c9741-9354-41cd-95e4-90c4740a150e"
      },
      "execution_count": null,
      "outputs": [
        {
          "output_type": "execute_result",
          "data": {
            "text/plain": [
              "['India', 'Netherlands', 'Germany', 'U.K.']"
            ]
          },
          "metadata": {},
          "execution_count": 1
        }
      ]
    },
    {
      "cell_type": "code",
      "source": [
        "for item in my_list:\n",
        "  print(item)"
      ],
      "metadata": {
        "colab": {
          "base_uri": "https://localhost:8080/"
        },
        "id": "GtJIE4wKa8B-",
        "outputId": "07f563bb-3bd5-4cd8-da84-14bc075035ff"
      },
      "execution_count": null,
      "outputs": [
        {
          "output_type": "stream",
          "name": "stdout",
          "text": [
            "India\n",
            "Netherlands\n",
            "Germany\n",
            "U.K.\n"
          ]
        }
      ]
    },
    {
      "cell_type": "code",
      "source": [
        "for item in range(len(my_list)):\n",
        "  print(item, my_list[item])"
      ],
      "metadata": {
        "colab": {
          "base_uri": "https://localhost:8080/"
        },
        "id": "x3iDC2UZbKM5",
        "outputId": "41165c9d-3046-45bd-a818-c11f239eddd7"
      },
      "execution_count": null,
      "outputs": [
        {
          "output_type": "stream",
          "name": "stdout",
          "text": [
            "0 India\n",
            "1 Netherlands\n",
            "2 Germany\n",
            "3 U.K.\n"
          ]
        }
      ]
    },
    {
      "cell_type": "code",
      "source": [
        "name = 'Veda'\n",
        "for letter in name:\n",
        "  print(letter, end = '\\t')"
      ],
      "metadata": {
        "colab": {
          "base_uri": "https://localhost:8080/"
        },
        "id": "9LnjweM9bkDp",
        "outputId": "c9d32a4a-c8b3-4467-ae14-965a85ee89a9"
      },
      "execution_count": null,
      "outputs": [
        {
          "output_type": "stream",
          "name": "stdout",
          "text": [
            "V\te\td\ta\t"
          ]
        }
      ]
    },
    {
      "cell_type": "markdown",
      "source": [
        "**# Project**"
      ],
      "metadata": {
        "id": "4_TkNkIpb9z6"
      }
    },
    {
      "cell_type": "markdown",
      "source": [
        "# Hangman"
      ],
      "metadata": {
        "id": "Pg24Sy-ncoYz"
      }
    },
    {
      "cell_type": "code",
      "source": [
        "import random\n",
        "\n",
        "my_list = ['India', 'Netherlands', 'Germany', 'UK']\n",
        "random_word = random.choice(my_list)\n",
        "\n",
        "number_of_guesses = 1\n",
        "\n",
        "for i in range(len(random_word)):\n",
        "  i = i -1\n",
        "  print('_', end= ' ')\n",
        "\n",
        "# c = input('\\n')\n",
        "# if c in random_word:\n",
        "#   print(c)\n",
        "#   i = len(random_word)\n",
        "#   while i <= (len(random_word)):\n",
        "#     i = i - 1\n",
        "#     print('_')\n",
        "  \n",
        "\n",
        "\n",
        "# while number_of_guesses <= 10:\n",
        "#   number_of_guesses = number_of_guesses + 1\n",
        "#   c = input('Guess: ')\n",
        "\n",
        "  \n",
        "#     for i in range(len(random_word)):\n",
        "#       i = i - 1\n",
        "#       print('_', end= ' ')  \n",
        "\n",
        "    "
      ],
      "metadata": {
        "colab": {
          "base_uri": "https://localhost:8080/"
        },
        "id": "enciJk1OctaK",
        "outputId": "0e9b742e-f57e-4fa7-f257-f0eb1b38cb25"
      },
      "execution_count": null,
      "outputs": [
        {
          "output_type": "stream",
          "name": "stdout",
          "text": [
            "_ _ _ _ _ _ _ "
          ]
        }
      ]
    },
    {
      "cell_type": "code",
      "source": [
        ""
      ],
      "metadata": {
        "id": "et2zi1BchUy0"
      },
      "execution_count": null,
      "outputs": []
    }
  ]
}