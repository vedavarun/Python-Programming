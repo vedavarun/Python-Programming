{
  "nbformat": 4,
  "nbformat_minor": 0,
  "metadata": {
    "colab": {
      "name": "Untitled0.ipynb",
      "provenance": [],
      "authorship_tag": "ABX9TyN3hXR7P0fxCsqKckG0CtnB",
      "include_colab_link": true
    },
    "kernelspec": {
      "name": "python3",
      "display_name": "Python 3"
    },
    "language_info": {
      "name": "python"
    }
  },
  "cells": [
    {
      "cell_type": "markdown",
      "metadata": {
        "id": "view-in-github",
        "colab_type": "text"
      },
      "source": [
        "<a href=\"https://colab.research.google.com/github/vedavarun/Python-Programming/blob/main/Lesson_0.ipynb\" target=\"_parent\"><img src=\"https://colab.research.google.com/assets/colab-badge.svg\" alt=\"Open In Colab\"/></a>"
      ]
    },
    {
      "cell_type": "markdown",
      "source": [
        "Hello World and Lesson 0!"
      ],
      "metadata": {
        "id": "AjrdmHAjKh2O"
      }
    },
    {
      "cell_type": "code",
      "source": [
        "print('Hello World!')"
      ],
      "metadata": {
        "id": "YcuXARMUKjrT",
        "outputId": "b1abf638-f9d8-4d50-bcfa-6ef50c1b3044",
        "colab": {
          "base_uri": "https://localhost:8080/"
        }
      },
      "execution_count": 1,
      "outputs": [
        {
          "output_type": "stream",
          "name": "stdout",
          "text": [
            "Hello World!\n"
          ]
        }
      ]
    },
    {
      "cell_type": "code",
      "source": [
        "import this #zen of python (by Tim Peters)"
      ],
      "metadata": {
        "id": "kmy8P3mvLsPs",
        "outputId": "a9defacb-dca3-48a1-e03e-5ffc922e5f4b",
        "colab": {
          "base_uri": "https://localhost:8080/"
        }
      },
      "execution_count": 2,
      "outputs": [
        {
          "output_type": "stream",
          "name": "stdout",
          "text": [
            "The Zen of Python, by Tim Peters\n",
            "\n",
            "Beautiful is better than ugly.\n",
            "Explicit is better than implicit.\n",
            "Simple is better than complex.\n",
            "Complex is better than complicated.\n",
            "Flat is better than nested.\n",
            "Sparse is better than dense.\n",
            "Readability counts.\n",
            "Special cases aren't special enough to break the rules.\n",
            "Although practicality beats purity.\n",
            "Errors should never pass silently.\n",
            "Unless explicitly silenced.\n",
            "In the face of ambiguity, refuse the temptation to guess.\n",
            "There should be one-- and preferably only one --obvious way to do it.\n",
            "Although that way may not be obvious at first unless you're Dutch.\n",
            "Now is better than never.\n",
            "Although never is often better than *right* now.\n",
            "If the implementation is hard to explain, it's a bad idea.\n",
            "If the implementation is easy to explain, it may be a good idea.\n",
            "Namespaces are one honking great idea -- let's do more of those!\n"
          ]
        }
      ]
    },
    {
      "cell_type": "code",
      "source": [
        "print('Hey', 10, 2.2 )"
      ],
      "metadata": {
        "id": "DUvGklEXLwpX",
        "outputId": "8a33da26-7897-4362-e351-ecae9d108bfd",
        "colab": {
          "base_uri": "https://localhost:8080/"
        }
      },
      "execution_count": 3,
      "outputs": [
        {
          "output_type": "stream",
          "name": "stdout",
          "text": [
            "Hey 10 2.2\n"
          ]
        }
      ]
    },
    {
      "cell_type": "code",
      "source": [
        "#interact with user\n",
        "s = input() #s is a variable we stored the input into\n",
        "s"
      ],
      "metadata": {
        "id": "cLzRz86vV9CG",
        "outputId": "9b9e0bce-af05-43ab-c8db-dde95ee13404",
        "colab": {
          "base_uri": "https://localhost:8080/",
          "height": 55
        }
      },
      "execution_count": 7,
      "outputs": [
        {
          "name": "stdout",
          "output_type": "stream",
          "text": [
            "Veda\n"
          ]
        },
        {
          "output_type": "execute_result",
          "data": {
            "application/vnd.google.colaboratory.intrinsic+json": {
              "type": "string"
            },
            "text/plain": [
              "'Veda'"
            ]
          },
          "metadata": {},
          "execution_count": 7
        }
      ]
    },
    {
      "cell_type": "code",
      "source": [
        "s = input('What is your name? ')"
      ],
      "metadata": {
        "id": "ErVgbK-eWG8M",
        "outputId": "d8aade84-ea7b-448f-89f4-d41bd65c776b",
        "colab": {
          "base_uri": "https://localhost:8080/"
        }
      },
      "execution_count": 9,
      "outputs": [
        {
          "name": "stdout",
          "output_type": "stream",
          "text": [
            "Veda\n"
          ]
        }
      ]
    },
    {
      "cell_type": "code",
      "source": [
        "name = input('What is yoru name? ')\n",
        "print('Hello', name.capitalize())\n",
        "age = input('How old are you? ')\n",
        "print(name,'You are', age, 'years old')"
      ],
      "metadata": {
        "id": "IfVnUBgsWT22",
        "outputId": "16f32b64-771a-4944-b9b1-38109f30a855",
        "colab": {
          "base_uri": "https://localhost:8080/"
        }
      },
      "execution_count": 14,
      "outputs": [
        {
          "output_type": "stream",
          "name": "stdout",
          "text": [
            "What is yoru name? veda\n",
            "Hello Veda\n",
            "How old are you? 25\n",
            "veda You are 25 years old\n"
          ]
        }
      ]
    },
    {
      "cell_type": "code",
      "source": [
        "s = 'veda'\n",
        "t = s.upper() #upper is a string method \n",
        "v = s.isnumeric() #issumeric is a string method\n",
        "spaces = '        v e d a'\n",
        "z = spaces.strip() #strips left and right spaces for a string\n",
        "print(t, v, z)\n",
        "v"
      ],
      "metadata": {
        "id": "iYporZgFXm7g",
        "outputId": "d03214ed-e5d8-4892-df0b-42be55448ab0",
        "colab": {
          "base_uri": "https://localhost:8080/"
        }
      },
      "execution_count": 22,
      "outputs": [
        {
          "output_type": "stream",
          "name": "stdout",
          "text": [
            "VEDA False v e d a\n"
          ]
        },
        {
          "output_type": "execute_result",
          "data": {
            "text/plain": [
              "False"
            ]
          },
          "metadata": {},
          "execution_count": 22
        }
      ]
    },
    {
      "cell_type": "code",
      "source": [
        "name = 'vvveda'\n",
        "name.replace('v', 'd') #replaces subsrtings within a string with a specific chosen character"
      ],
      "metadata": {
        "id": "IjrwpcOGYvRU",
        "outputId": "85ced509-f811-4ce7-c029-12bf6c636838",
        "colab": {
          "base_uri": "https://localhost:8080/",
          "height": 38
        }
      },
      "execution_count": 30,
      "outputs": [
        {
          "output_type": "execute_result",
          "data": {
            "application/vnd.google.colaboratory.intrinsic+json": {
              "type": "string"
            },
            "text/plain": [
              "'dddeda'"
            ]
          },
          "metadata": {},
          "execution_count": 30
        }
      ]
    },
    {
      "cell_type": "markdown",
      "source": [
        "# Project 0 - input and output strings"
      ],
      "metadata": {
        "id": "udeDspV1aY-E"
      }
    },
    {
      "cell_type": "code",
      "source": [
        "#print 'Hello world!' program\n",
        "print('Hello World')"
      ],
      "metadata": {
        "id": "sjqMlhuiadvB",
        "outputId": "ef1929f1-d9fd-4639-fe50-0960aa8e9b26",
        "colab": {
          "base_uri": "https://localhost:8080/"
        }
      },
      "execution_count": 31,
      "outputs": [
        {
          "output_type": "stream",
          "name": "stdout",
          "text": [
            "Hello World\n"
          ]
        }
      ]
    },
    {
      "cell_type": "code",
      "source": [
        "#use input to get name from user and print hello to them\n",
        "user_name = input('What is your name? ')\n",
        "user_name = user_name.upper()\n",
        "print('Hello', user_name)"
      ],
      "metadata": {
        "id": "VLRZhm_4bJBb",
        "outputId": "914c12ff-5ac9-4591-b872-5a5bd2dd6a31",
        "colab": {
          "base_uri": "https://localhost:8080/"
        }
      },
      "execution_count": 33,
      "outputs": [
        {
          "output_type": "stream",
          "name": "stdout",
          "text": [
            "What is your name? veda\n",
            "Hello VEDA\n"
          ]
        }
      ]
    },
    {
      "cell_type": "code",
      "source": [
        ""
      ],
      "metadata": {
        "id": "W62loofTbaK7"
      },
      "execution_count": null,
      "outputs": []
    }
  ]
}