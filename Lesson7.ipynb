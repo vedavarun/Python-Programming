{
  "nbformat": 4,
  "nbformat_minor": 0,
  "metadata": {
    "colab": {
      "name": "Functions.ipynb",
      "provenance": [],
      "authorship_tag": "ABX9TyMwBtVqzcIPxGwBrI1qNyPR",
      "include_colab_link": true
    },
    "kernelspec": {
      "name": "python3",
      "display_name": "Python 3"
    },
    "language_info": {
      "name": "python"
    }
  },
  "cells": [
    {
      "cell_type": "markdown",
      "metadata": {
        "id": "view-in-github",
        "colab_type": "text"
      },
      "source": [
        "<a href=\"https://colab.research.google.com/github/vedavarun/Python-Programming/blob/main/Lesson7.ipynb\" target=\"_parent\"><img src=\"https://colab.research.google.com/assets/colab-badge.svg\" alt=\"Open In Colab\"/></a>"
      ]
    },
    {
      "cell_type": "markdown",
      "source": [
        "# Functions"
      ],
      "metadata": {
        "id": "CIE9T25VxieX"
      }
    },
    {
      "cell_type": "code",
      "source": [
        "def my_func():\n",
        "  print('Hi')"
      ],
      "metadata": {
        "id": "K5RRrKCH2t8e"
      },
      "execution_count": 1,
      "outputs": []
    },
    {
      "cell_type": "code",
      "source": [
        "my_func()"
      ],
      "metadata": {
        "colab": {
          "base_uri": "https://localhost:8080/"
        },
        "id": "Bp-1FvWY2w-Q",
        "outputId": "4a402a1d-1687-47e4-972b-8d10ab8a870b"
      },
      "execution_count": 2,
      "outputs": [
        {
          "output_type": "stream",
          "name": "stdout",
          "text": [
            "Hi\n"
          ]
        }
      ]
    },
    {
      "cell_type": "code",
      "source": [
        "def print_name(name):\n",
        "  print(f'Hello {name}')"
      ],
      "metadata": {
        "id": "-GEYn8no2zE_"
      },
      "execution_count": 3,
      "outputs": []
    },
    {
      "cell_type": "code",
      "source": [
        "print_name('veda')"
      ],
      "metadata": {
        "colab": {
          "base_uri": "https://localhost:8080/"
        },
        "id": "vWzCZMmO27YO",
        "outputId": "acb6ea2f-2190-4168-a698-d022486a93ad"
      },
      "execution_count": 4,
      "outputs": [
        {
          "output_type": "stream",
          "name": "stdout",
          "text": [
            "Hello veda\n"
          ]
        }
      ]
    },
    {
      "cell_type": "code",
      "source": [
        "def print_name_age(name, age):\n",
        "  print(f'Hello {name}')\n",
        "  print(f'You are of {age} years old')"
      ],
      "metadata": {
        "id": "9AM-nX162-r_"
      },
      "execution_count": 5,
      "outputs": []
    },
    {
      "cell_type": "code",
      "source": [
        "print_name_age('veda', 18)"
      ],
      "metadata": {
        "colab": {
          "base_uri": "https://localhost:8080/"
        },
        "id": "0ygjOamg3Pr-",
        "outputId": "626bc4c2-1ab5-48d8-93ad-7725d9ed552c"
      },
      "execution_count": 6,
      "outputs": [
        {
          "output_type": "stream",
          "name": "stdout",
          "text": [
            "Hello veda\n",
            "You are of 18 years old\n"
          ]
        }
      ]
    },
    {
      "cell_type": "code",
      "source": [
        "def calculate_age(birth_year):\n",
        "  return 2021 - birth_year"
      ],
      "metadata": {
        "id": "qurLSCYd3XLZ"
      },
      "execution_count": 7,
      "outputs": []
    },
    {
      "cell_type": "code",
      "source": [
        "calculate_age(1996)"
      ],
      "metadata": {
        "colab": {
          "base_uri": "https://localhost:8080/"
        },
        "id": "cxzB8Ueg4f_e",
        "outputId": "dbb08672-108f-4655-e621-8acef7a4fe66"
      },
      "execution_count": 8,
      "outputs": [
        {
          "output_type": "execute_result",
          "data": {
            "text/plain": [
              "25"
            ]
          },
          "metadata": {},
          "execution_count": 8
        }
      ]
    },
    {
      "cell_type": "markdown",
      "source": [
        "Unicode"
      ],
      "metadata": {
        "id": "nbvr5i2N4i3-"
      }
    },
    {
      "cell_type": "code",
      "source": [
        "ord('a')"
      ],
      "metadata": {
        "colab": {
          "base_uri": "https://localhost:8080/"
        },
        "id": "APfJANUu43jI",
        "outputId": "a3c3eef0-ed17-4870-a9ab-ea5e94fb9887"
      },
      "execution_count": 9,
      "outputs": [
        {
          "output_type": "execute_result",
          "data": {
            "text/plain": [
              "97"
            ]
          },
          "metadata": {},
          "execution_count": 9
        }
      ]
    },
    {
      "cell_type": "code",
      "source": [
        "ord('A')"
      ],
      "metadata": {
        "colab": {
          "base_uri": "https://localhost:8080/"
        },
        "id": "Yzntkd3X45dV",
        "outputId": "3c512e5e-d0ca-4f02-b86b-27ad1812bbf4"
      },
      "execution_count": 10,
      "outputs": [
        {
          "output_type": "execute_result",
          "data": {
            "text/plain": [
              "65"
            ]
          },
          "metadata": {},
          "execution_count": 10
        }
      ]
    },
    {
      "cell_type": "code",
      "source": [
        "chr(68)"
      ],
      "metadata": {
        "colab": {
          "base_uri": "https://localhost:8080/",
          "height": 38
        },
        "id": "v8OCJQnd46zT",
        "outputId": "d6ebafe8-e436-4ee6-c0cf-ea3d92c08f6c"
      },
      "execution_count": 11,
      "outputs": [
        {
          "output_type": "execute_result",
          "data": {
            "application/vnd.google.colaboratory.intrinsic+json": {
              "type": "string"
            },
            "text/plain": [
              "'D'"
            ]
          },
          "metadata": {},
          "execution_count": 11
        }
      ]
    },
    {
      "cell_type": "code",
      "source": [
        "for i in range(65, 65+26):\n",
        "  print(i, 'is', chr(i))\n"
      ],
      "metadata": {
        "colab": {
          "base_uri": "https://localhost:8080/"
        },
        "id": "lmONaVMz49gx",
        "outputId": "9bb8f6f8-116a-49e2-b1de-135caf13d233"
      },
      "execution_count": 13,
      "outputs": [
        {
          "output_type": "stream",
          "name": "stdout",
          "text": [
            "65 is A\n",
            "66 is B\n",
            "67 is C\n",
            "68 is D\n",
            "69 is E\n",
            "70 is F\n",
            "71 is G\n",
            "72 is H\n",
            "73 is I\n",
            "74 is J\n",
            "75 is K\n",
            "76 is L\n",
            "77 is M\n",
            "78 is N\n",
            "79 is O\n",
            "80 is P\n",
            "81 is Q\n",
            "82 is R\n",
            "83 is S\n",
            "84 is T\n",
            "85 is U\n",
            "86 is V\n",
            "87 is W\n",
            "88 is X\n",
            "89 is Y\n",
            "90 is Z\n"
          ]
        }
      ]
    },
    {
      "cell_type": "code",
      "source": [
        "def is_even(n):\n",
        "  if n % 2 == 0:\n",
        "    print(f' {n} is even')\n",
        "  else:\n",
        "    print(f' {n} is odd')"
      ],
      "metadata": {
        "id": "lMdaW6I65YMz"
      },
      "execution_count": 20,
      "outputs": []
    },
    {
      "cell_type": "code",
      "source": [
        "is_even(56)"
      ],
      "metadata": {
        "colab": {
          "base_uri": "https://localhost:8080/"
        },
        "id": "FRj4qhW055dP",
        "outputId": "285a61b3-4003-4cb4-a90a-27144b319f3f"
      },
      "execution_count": 21,
      "outputs": [
        {
          "output_type": "stream",
          "name": "stdout",
          "text": [
            " 56 is even\n"
          ]
        }
      ]
    },
    {
      "cell_type": "markdown",
      "source": [
        "# Project - Cipher"
      ],
      "metadata": {
        "id": "mWPDW4t557Xe"
      }
    },
    {
      "cell_type": "code",
      "source": [
        "def encrypt_char(char, key):\n",
        "  return chr(ord('A') + (ord(char) - ord('A') + key) % 26)\n",
        "\n"
      ],
      "metadata": {
        "id": "Cix_FtSy6LtK"
      },
      "execution_count": 49,
      "outputs": []
    },
    {
      "cell_type": "code",
      "source": [
        "encrypt_char('Z',3)"
      ],
      "metadata": {
        "colab": {
          "base_uri": "https://localhost:8080/",
          "height": 38
        },
        "id": "hdu9bUT28Jx4",
        "outputId": "85573b3b-6d0d-4309-9b78-9c67ce308b65"
      },
      "execution_count": 51,
      "outputs": [
        {
          "output_type": "execute_result",
          "data": {
            "application/vnd.google.colaboratory.intrinsic+json": {
              "type": "string"
            },
            "text/plain": [
              "'C'"
            ]
          },
          "metadata": {},
          "execution_count": 51
        }
      ]
    },
    {
      "cell_type": "code",
      "source": [
        "def encrypt_message(message, key):\n",
        "  message = message.upper()\n",
        "  cipher = ''\n",
        "  for c in message:\n",
        "    if c in ' .,':\n",
        "      cipher = cipher + c\n",
        "    else:\n",
        "      cipher = cipher + encrypt_char(c, key)\n",
        "  return cipher\n",
        "  "
      ],
      "metadata": {
        "id": "qMYH__g6d0mY"
      },
      "execution_count": 52,
      "outputs": []
    },
    {
      "cell_type": "code",
      "source": [
        "encrypt_message('hi', 1)"
      ],
      "metadata": {
        "colab": {
          "base_uri": "https://localhost:8080/",
          "height": 38
        },
        "id": "uYc49S64fuBR",
        "outputId": "80ceff2c-5be9-4717-9c46-6d9348388806"
      },
      "execution_count": 53,
      "outputs": [
        {
          "output_type": "execute_result",
          "data": {
            "application/vnd.google.colaboratory.intrinsic+json": {
              "type": "string"
            },
            "text/plain": [
              "'IJ'"
            ]
          },
          "metadata": {},
          "execution_count": 53
        }
      ]
    },
    {
      "cell_type": "code",
      "source": [
        ""
      ],
      "metadata": {
        "id": "7W-Jcm5JfyM-"
      },
      "execution_count": null,
      "outputs": []
    }
  ]
}