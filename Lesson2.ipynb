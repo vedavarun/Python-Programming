{
  "nbformat": 4,
  "nbformat_minor": 0,
  "metadata": {
    "colab": {
      "name": "Untitled1.ipynb",
      "provenance": [],
      "authorship_tag": "ABX9TyP4HTu4xPu6upHPx1DSZg9D",
      "include_colab_link": true
    },
    "kernelspec": {
      "name": "python3",
      "display_name": "Python 3"
    },
    "language_info": {
      "name": "python"
    }
  },
  "cells": [
    {
      "cell_type": "markdown",
      "metadata": {
        "id": "view-in-github",
        "colab_type": "text"
      },
      "source": [
        "<a href=\"https://colab.research.google.com/github/vedavarun/Python-Programming/blob/main/Lesson2.ipynb\" target=\"_parent\"><img src=\"https://colab.research.google.com/assets/colab-badge.svg\" alt=\"Open In Colab\"/></a>"
      ]
    },
    {
      "cell_type": "markdown",
      "source": [
        "Data Type Conversion"
      ],
      "metadata": {
        "id": "2wCugRRSEpGG"
      }
    },
    {
      "cell_type": "code",
      "execution_count": 3,
      "metadata": {
        "colab": {
          "base_uri": "https://localhost:8080/"
        },
        "id": "-Etpr-clDjX6",
        "outputId": "3eaa2b04-484a-4549-a189-b53c28feb02b"
      },
      "outputs": [
        {
          "output_type": "stream",
          "name": "stdout",
          "text": [
            "What is your name? 3\n",
            "Hello 3!\n",
            "What is your birth year? 22\n",
            "You were born in 22\n"
          ]
        }
      ],
      "source": [
        "name = input('What is your name? ')\n",
        "print(f'Hello {name}!')\n",
        "birth_year = input('What is your birth year? ')\n",
        "print(f'You were born in {birth_year}')"
      ]
    },
    {
      "cell_type": "code",
      "source": [
        "name = input('What is your name? ')\n",
        "print(f'Hello {name}!')\n",
        "birth_year = input('What is your birth year? ')\n",
        "print(f'You were born in {birth_year}')\n",
        "print(f'You are {2021 - int(birth_year)} years old') #type conversion line"
      ],
      "metadata": {
        "colab": {
          "base_uri": "https://localhost:8080/"
        },
        "id": "JH5VOcDNFQWi",
        "outputId": "f75a8afd-65a7-4360-a689-b81fb4fe8642"
      },
      "execution_count": 4,
      "outputs": [
        {
          "output_type": "stream",
          "name": "stdout",
          "text": [
            "What is your name? 2\n",
            "Hello 2!\n",
            "What is your birth year? 2\n",
            "You were born in 2\n",
            "You are 2019 years old\n"
          ]
        }
      ]
    },
    {
      "cell_type": "code",
      "source": [
        "#input takes a string format - read the documentation, so you need to convert it to int/ float"
      ],
      "metadata": {
        "id": "Cd2AilO3GKYU"
      },
      "execution_count": 6,
      "outputs": []
    },
    {
      "cell_type": "markdown",
      "source": [
        "# Project"
      ],
      "metadata": {
        "id": "7SXFfvVuGhMq"
      }
    },
    {
      "cell_type": "markdown",
      "source": [
        "Multiply two numbers"
      ],
      "metadata": {
        "id": "vWYektiPGyft"
      }
    },
    {
      "cell_type": "code",
      "source": [
        "num_1 = float(input('Enter a number to multiply: '))\n",
        "num_2 = float(input('Enter another number to multiply: '))\n",
        "result = num_1 * num_2\n",
        "print(result)\n",
        "\n"
      ],
      "metadata": {
        "colab": {
          "base_uri": "https://localhost:8080/"
        },
        "id": "XwrAq1vjG3NO",
        "outputId": "430fa1be-fd13-44c9-c136-e131cf0549cb"
      },
      "execution_count": 9,
      "outputs": [
        {
          "output_type": "stream",
          "name": "stdout",
          "text": [
            "Enter a number to multiply: 2\n",
            "Enter another number to multiply: 3\n",
            "6.0\n"
          ]
        }
      ]
    },
    {
      "cell_type": "markdown",
      "source": [
        "Days since you were born"
      ],
      "metadata": {
        "id": "GZQsvXJUHM37"
      }
    },
    {
      "cell_type": "code",
      "source": [
        "import time\n",
        "epoch = time.time()\n",
        "print(round(epoch))\n",
        "\n"
      ],
      "metadata": {
        "colab": {
          "base_uri": "https://localhost:8080/"
        },
        "id": "qshEngNHHZoM",
        "outputId": "d4836462-fded-43a2-cd0e-8c68ec355285"
      },
      "execution_count": 18,
      "outputs": [
        {
          "output_type": "stream",
          "name": "stdout",
          "text": [
            "1640361278\n"
          ]
        }
      ]
    },
    {
      "cell_type": "code",
      "source": [
        "year_now = 2021\n",
        "born_year = int(input('Hey! What year were you born in? '))\n",
        "age = year_now - born_year\n",
        "days = age * 365\n",
        "print(f'Hey, based on that, you must be {days} days old! You are wise!')"
      ],
      "metadata": {
        "colab": {
          "base_uri": "https://localhost:8080/"
        },
        "id": "9oKX0mqMIViG",
        "outputId": "e9ad2f5e-6c95-485e-fc25-588ca494b5ee"
      },
      "execution_count": 19,
      "outputs": [
        {
          "output_type": "stream",
          "name": "stdout",
          "text": [
            "Hey! What year were you born in? 4\n",
            "Hey, based on that, you must be 736205 days old! You are wise!\n"
          ]
        }
      ]
    },
    {
      "cell_type": "markdown",
      "source": [
        "Tip Calculator"
      ],
      "metadata": {
        "id": "Z8up3Ng_J5H8"
      }
    },
    {
      "cell_type": "code",
      "source": [
        "cost = float(input('What is your total cost? '))\n",
        "tip_percentage = float(input('How much % do you want to tip? Enter 0-100'))\n",
        "\n",
        "tip_amount = cost * tip_percentage/100\n",
        "\n",
        "print(f'For {cost} pounds the tip at {tip_percentage} % is {round(tip_amount,3)} pounds. Total amount to give to restaurant is {cost + tip_amount} pounds')"
      ],
      "metadata": {
        "colab": {
          "base_uri": "https://localhost:8080/"
        },
        "id": "iJSmq8TYJ80S",
        "outputId": "6d548463-e865-4737-85a0-eea5d86e3ee9"
      },
      "execution_count": 28,
      "outputs": [
        {
          "output_type": "stream",
          "name": "stdout",
          "text": [
            "What is your total cost? 10\n",
            "How much % do you want to tip? Enter 0-1004.23\n",
            "For 10.0 pounds the tip at 4.23 % is 0.423 pounds. Total amount to give to restaurant is 10.423 pounds\n"
          ]
        }
      ]
    },
    {
      "cell_type": "code",
      "source": [
        ""
      ],
      "metadata": {
        "id": "LBJIHu9AMIge"
      },
      "execution_count": null,
      "outputs": []
    }
  ]
}