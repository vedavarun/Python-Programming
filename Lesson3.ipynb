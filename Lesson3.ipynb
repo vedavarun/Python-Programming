{
  "nbformat": 4,
  "nbformat_minor": 0,
  "metadata": {
    "colab": {
      "name": "Copy of FlowControl.ipynb",
      "provenance": [],
      "authorship_tag": "ABX9TyO7laA22rlJ2TnHN8Qg8sF2",
      "include_colab_link": true
    },
    "kernelspec": {
      "name": "python3",
      "display_name": "Python 3"
    },
    "language_info": {
      "name": "python"
    }
  },
  "cells": [
    {
      "cell_type": "markdown",
      "metadata": {
        "id": "view-in-github",
        "colab_type": "text"
      },
      "source": [
        "<a href=\"https://colab.research.google.com/github/vedavarun/Python-Programming/blob/main/Lesson3.ipynb\" target=\"_parent\"><img src=\"https://colab.research.google.com/assets/colab-badge.svg\" alt=\"Open In Colab\"/></a>"
      ]
    },
    {
      "cell_type": "markdown",
      "source": [
        "Boolean Exressions\n"
      ],
      "metadata": {
        "id": "_MOqaMB_NVsS"
      }
    },
    {
      "cell_type": "markdown",
      "source": [
        "\n",
        "\n",
        "*   Equals a == b\n",
        "*   Not equals a != b\n",
        "*   Less than a < b\n",
        "*   <=, > and > ="
      ],
      "metadata": {
        "id": "PKsM8dzxZ_dT"
      }
    },
    {
      "cell_type": "code",
      "source": [
        "a = 12\n",
        "b = 12\n",
        "if a == b:\n",
        "  print('a equals b')"
      ],
      "metadata": {
        "id": "ysHZTlQNaODT",
        "outputId": "f84b57d3-be2c-48c0-f71e-d51eab2cc5cb",
        "colab": {
          "base_uri": "https://localhost:8080/"
        }
      },
      "execution_count": null,
      "outputs": [
        {
          "output_type": "stream",
          "name": "stdout",
          "text": [
            "a equals b\n"
          ]
        }
      ]
    },
    {
      "cell_type": "code",
      "source": [
        "a = 12\n",
        "b = 12\n",
        "if a > b:\n",
        "  print('a is greater than b')\n",
        "else: \n",
        "  print('a is not greather than b')"
      ],
      "metadata": {
        "id": "Qv7_1oQkaUeh",
        "outputId": "bcbd7cec-7544-47b2-9a3b-39e8d955a865",
        "colab": {
          "base_uri": "https://localhost:8080/"
        }
      },
      "execution_count": null,
      "outputs": [
        {
          "output_type": "stream",
          "name": "stdout",
          "text": [
            "a is not greather than b\n"
          ]
        }
      ]
    },
    {
      "cell_type": "markdown",
      "source": [
        "# Project"
      ],
      "metadata": {
        "id": "SkxN4PjeazAB"
      }
    },
    {
      "cell_type": "markdown",
      "source": [
        "Car Insurance"
      ],
      "metadata": {
        "id": "SI53uX9sbw3_"
      }
    },
    {
      "cell_type": "code",
      "source": [
        "market_price = float(input('What is your car price? : '))\n",
        "input_gender = str(input('What is your gender? : '))\n",
        "gender = ['M', 'F']\n",
        "\n",
        "\n",
        "\n",
        "if input_gender in gender:   \n",
        "  if input_gender == 'F':\n",
        "    car = str(input('Enter your car type: '))\n",
        "    if car == 'Sports':\n",
        "      print(market_price * 0.21)\n",
        "    else: \n",
        "      print(market_price * 0.10)\n",
        "  elif input_gender == 'M':\n",
        "    age = int(input('Enter your age: '))\n",
        "    if age > 26:\n",
        "      print(market_price * 0.09)\n",
        "    else:\n",
        "      print(market_price * 0.23)\n",
        "else:\n",
        "  print(\" Please specify either 'M' or 'F' \")\n",
        "\n"
      ],
      "metadata": {
        "id": "LmJ1Dqavbytr",
        "colab": {
          "base_uri": "https://localhost:8080/"
        },
        "outputId": "965637dd-b043-4761-c40d-a8439abf85f4"
      },
      "execution_count": 8,
      "outputs": [
        {
          "output_type": "stream",
          "name": "stdout",
          "text": [
            "What is your car price? : 100\n",
            "What is your gender? : M\n",
            "Enter your age: 21\n",
            "23.0\n"
          ]
        }
      ]
    },
    {
      "cell_type": "code",
      "source": [
        ""
      ],
      "metadata": {
        "id": "65Y-AVCuQvbR"
      },
      "execution_count": null,
      "outputs": []
    }
  ]
}