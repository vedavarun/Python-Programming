{
  "nbformat": 4,
  "nbformat_minor": 0,
  "metadata": {
    "colab": {
      "name": "Lesson1.ipynb",
      "provenance": [],
      "collapsed_sections": [],
      "authorship_tag": "ABX9TyMtiezIft3C2/LII/RPSS1B",
      "include_colab_link": true
    },
    "kernelspec": {
      "name": "python3",
      "display_name": "Python 3"
    },
    "language_info": {
      "name": "python"
    }
  },
  "cells": [
    {
      "cell_type": "markdown",
      "metadata": {
        "id": "view-in-github",
        "colab_type": "text"
      },
      "source": [
        "<a href=\"https://colab.research.google.com/github/vedavarun/Python-Programming/blob/main/Lesson1.ipynb\" target=\"_parent\"><img src=\"https://colab.research.google.com/assets/colab-badge.svg\" alt=\"Open In Colab\"/></a>"
      ]
    },
    {
      "cell_type": "markdown",
      "source": [
        "# ***Variables***"
      ],
      "metadata": {
        "id": "m433rE36dCNe"
      }
    },
    {
      "cell_type": "markdown",
      "source": [
        "Declaration of Variables"
      ],
      "metadata": {
        "id": "ghHnMPIJ7tD_"
      }
    },
    {
      "cell_type": "code",
      "source": [
        "s = 'This is a string'\n",
        "a = 2\n",
        "a = 2.4\n",
        "booleantype = True"
      ],
      "metadata": {
        "id": "z16DpxTp7vHd"
      },
      "execution_count": 6,
      "outputs": []
    },
    {
      "cell_type": "code",
      "source": [
        "print(type(s)) #s is a string\n",
        "print(type(a))\n",
        "type(booleantype)"
      ],
      "metadata": {
        "id": "Ir0x32S371nf",
        "outputId": "304ae28f-a16d-459a-fa5f-64c42d2cd7a9",
        "colab": {
          "base_uri": "https://localhost:8080/"
        }
      },
      "execution_count": 9,
      "outputs": [
        {
          "output_type": "stream",
          "name": "stdout",
          "text": [
            "<class 'str'>\n",
            "<class 'float'>\n"
          ]
        },
        {
          "output_type": "execute_result",
          "data": {
            "text/plain": [
              "bool"
            ]
          },
          "metadata": {},
          "execution_count": 9
        }
      ]
    },
    {
      "cell_type": "markdown",
      "source": [
        "Math Functions"
      ],
      "metadata": {
        "id": "NFy3V9sk8UWM"
      }
    },
    {
      "cell_type": "code",
      "source": [
        "abs(-2)"
      ],
      "metadata": {
        "id": "Gcqdy9rj8Vko",
        "outputId": "dd4350cd-6b6a-47c5-c3d6-8bf70efd4c46",
        "colab": {
          "base_uri": "https://localhost:8080/"
        }
      },
      "execution_count": 10,
      "outputs": [
        {
          "output_type": "execute_result",
          "data": {
            "text/plain": [
              "2"
            ]
          },
          "metadata": {},
          "execution_count": 10
        }
      ]
    },
    {
      "cell_type": "code",
      "source": [
        "pow(2,3) #power of 2 to 3"
      ],
      "metadata": {
        "id": "3RwQY0z88dVb",
        "outputId": "82b03b48-a6ff-4c1f-8764-4cb696545a6c",
        "colab": {
          "base_uri": "https://localhost:8080/"
        }
      },
      "execution_count": 12,
      "outputs": [
        {
          "output_type": "execute_result",
          "data": {
            "text/plain": [
              "8"
            ]
          },
          "metadata": {},
          "execution_count": 12
        }
      ]
    },
    {
      "cell_type": "code",
      "source": [
        "round(1.456,2)"
      ],
      "metadata": {
        "id": "swYG9Rgz8fSD",
        "outputId": "bd6796b0-2f00-4d8f-95cd-15b2503c6bb8",
        "colab": {
          "base_uri": "https://localhost:8080/"
        }
      },
      "execution_count": 17,
      "outputs": [
        {
          "output_type": "execute_result",
          "data": {
            "text/plain": [
              "1.46"
            ]
          },
          "metadata": {},
          "execution_count": 17
        }
      ]
    },
    {
      "cell_type": "markdown",
      "source": [
        "Strings"
      ],
      "metadata": {
        "id": "P4XnpfUn82wE"
      }
    },
    {
      "cell_type": "code",
      "source": [
        "s1 = 'Hi '\n",
        "s2 = 'There'\n",
        "print(s1 + s2)"
      ],
      "metadata": {
        "id": "4Co1eQAh84BW",
        "outputId": "cb11d79a-2e5f-49f6-9028-d3af45615030",
        "colab": {
          "base_uri": "https://localhost:8080/"
        }
      },
      "execution_count": 19,
      "outputs": [
        {
          "output_type": "stream",
          "name": "stdout",
          "text": [
            "Hi There\n"
          ]
        }
      ]
    },
    {
      "cell_type": "code",
      "source": [
        "a = 5\n",
        "print(f'Hello to you {a}') #string formatting for easy concatation of 2 different data types"
      ],
      "metadata": {
        "id": "oFZeVIoZ89FH",
        "outputId": "f2d3d965-57b0-448d-ed51-83e000d11223",
        "colab": {
          "base_uri": "https://localhost:8080/"
        }
      },
      "execution_count": 21,
      "outputs": [
        {
          "output_type": "stream",
          "name": "stdout",
          "text": [
            "Hello to you 5\n"
          ]
        }
      ]
    },
    {
      "cell_type": "markdown",
      "source": [
        "Boolean type #do this or that True/ False"
      ],
      "metadata": {
        "id": "jwib147l9r-V"
      }
    },
    {
      "cell_type": "code",
      "source": [
        "a = 4\n",
        "b = 5\n",
        "a < b"
      ],
      "metadata": {
        "id": "bGnoc4jv9uy6",
        "outputId": "b3f8b080-2637-42bb-eb14-a900cd992642",
        "colab": {
          "base_uri": "https://localhost:8080/"
        }
      },
      "execution_count": 22,
      "outputs": [
        {
          "output_type": "execute_result",
          "data": {
            "text/plain": [
              "True"
            ]
          },
          "metadata": {},
          "execution_count": 22
        }
      ]
    },
    {
      "cell_type": "code",
      "source": [
        "True and False"
      ],
      "metadata": {
        "id": "4RfPcKoQ-Uvk",
        "outputId": "cfaadc06-c921-424b-c1ca-0e49e1b1f88a",
        "colab": {
          "base_uri": "https://localhost:8080/"
        }
      },
      "execution_count": 23,
      "outputs": [
        {
          "output_type": "execute_result",
          "data": {
            "text/plain": [
              "False"
            ]
          },
          "metadata": {},
          "execution_count": 23
        }
      ]
    },
    {
      "cell_type": "code",
      "source": [
        "False and False"
      ],
      "metadata": {
        "id": "-oFwY8We-Zc6",
        "outputId": "74b24101-4e7e-4233-d0b0-5e148bdae9d4",
        "colab": {
          "base_uri": "https://localhost:8080/"
        }
      },
      "execution_count": 24,
      "outputs": [
        {
          "output_type": "execute_result",
          "data": {
            "text/plain": [
              "False"
            ]
          },
          "metadata": {},
          "execution_count": 24
        }
      ]
    },
    {
      "cell_type": "code",
      "source": [
        "True or True"
      ],
      "metadata": {
        "id": "a2c8IlZs-bBx",
        "outputId": "7bc95b32-c72a-42c5-c3cd-8d04535df5ef",
        "colab": {
          "base_uri": "https://localhost:8080/"
        }
      },
      "execution_count": 25,
      "outputs": [
        {
          "output_type": "execute_result",
          "data": {
            "text/plain": [
              "True"
            ]
          },
          "metadata": {},
          "execution_count": 25
        }
      ]
    },
    {
      "cell_type": "code",
      "source": [
        ""
      ],
      "metadata": {
        "id": "7SUEyUIR-cNG"
      },
      "execution_count": null,
      "outputs": []
    }
  ]
}