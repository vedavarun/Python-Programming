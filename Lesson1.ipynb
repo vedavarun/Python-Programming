{
  "nbformat": 4,
  "nbformat_minor": 0,
  "metadata": {
    "colab": {
      "name": "Lesson1.ipynb",
      "provenance": [],
      "collapsed_sections": [],
      "authorship_tag": "ABX9TyNxBPhBkvEwuvAuCZ3N3uG/",
      "include_colab_link": true
    },
    "kernelspec": {
      "name": "python3",
      "display_name": "Python 3"
    },
    "language_info": {
      "name": "python"
    }
  },
  "cells": [
    {
      "cell_type": "markdown",
      "metadata": {
        "id": "view-in-github",
        "colab_type": "text"
      },
      "source": [
        "<a href=\"https://colab.research.google.com/github/vedavarun/Python-Programming/blob/main/Lesson1.ipynb\" target=\"_parent\"><img src=\"https://colab.research.google.com/assets/colab-badge.svg\" alt=\"Open In Colab\"/></a>"
      ]
    },
    {
      "cell_type": "markdown",
      "source": [
        "# ***Variables***"
      ],
      "metadata": {
        "id": "m433rE36dCNe"
      }
    },
    {
      "cell_type": "markdown",
      "source": [
        "Declaration of Variables"
      ],
      "metadata": {
        "id": "ghHnMPIJ7tD_"
      }
    },
    {
      "cell_type": "code",
      "source": [
        "s = 'This is a string'\n",
        "a = 2\n",
        "a = 2.4\n",
        "booleantype = True"
      ],
      "metadata": {
        "id": "z16DpxTp7vHd"
      },
      "execution_count": 6,
      "outputs": []
    },
    {
      "cell_type": "code",
      "source": [
        "print(type(s)) #s is a string\n",
        "print(type(a))\n",
        "type(booleantype)"
      ],
      "metadata": {
        "colab": {
          "base_uri": "https://localhost:8080/"
        },
        "id": "Ir0x32S371nf",
        "outputId": "304ae28f-a16d-459a-fa5f-64c42d2cd7a9"
      },
      "execution_count": 9,
      "outputs": [
        {
          "output_type": "stream",
          "name": "stdout",
          "text": [
            "<class 'str'>\n",
            "<class 'float'>\n"
          ]
        },
        {
          "output_type": "execute_result",
          "data": {
            "text/plain": [
              "bool"
            ]
          },
          "metadata": {},
          "execution_count": 9
        }
      ]
    },
    {
      "cell_type": "markdown",
      "source": [
        "Math Functions"
      ],
      "metadata": {
        "id": "NFy3V9sk8UWM"
      }
    },
    {
      "cell_type": "code",
      "source": [
        "abs(-2)"
      ],
      "metadata": {
        "colab": {
          "base_uri": "https://localhost:8080/"
        },
        "id": "Gcqdy9rj8Vko",
        "outputId": "dd4350cd-6b6a-47c5-c3d6-8bf70efd4c46"
      },
      "execution_count": 10,
      "outputs": [
        {
          "output_type": "execute_result",
          "data": {
            "text/plain": [
              "2"
            ]
          },
          "metadata": {},
          "execution_count": 10
        }
      ]
    },
    {
      "cell_type": "code",
      "source": [
        "pow(2,3) #power of 2 to 3"
      ],
      "metadata": {
        "colab": {
          "base_uri": "https://localhost:8080/"
        },
        "id": "3RwQY0z88dVb",
        "outputId": "82b03b48-a6ff-4c1f-8764-4cb696545a6c"
      },
      "execution_count": 12,
      "outputs": [
        {
          "output_type": "execute_result",
          "data": {
            "text/plain": [
              "8"
            ]
          },
          "metadata": {},
          "execution_count": 12
        }
      ]
    },
    {
      "cell_type": "code",
      "source": [
        "round(1.456,2)"
      ],
      "metadata": {
        "colab": {
          "base_uri": "https://localhost:8080/"
        },
        "id": "swYG9Rgz8fSD",
        "outputId": "bd6796b0-2f00-4d8f-95cd-15b2503c6bb8"
      },
      "execution_count": 17,
      "outputs": [
        {
          "output_type": "execute_result",
          "data": {
            "text/plain": [
              "1.46"
            ]
          },
          "metadata": {},
          "execution_count": 17
        }
      ]
    },
    {
      "cell_type": "markdown",
      "source": [
        "Strings"
      ],
      "metadata": {
        "id": "P4XnpfUn82wE"
      }
    },
    {
      "cell_type": "code",
      "source": [
        "s1 = 'Hi '\n",
        "s2 = 'There'\n",
        "print(s1 + s2)"
      ],
      "metadata": {
        "colab": {
          "base_uri": "https://localhost:8080/"
        },
        "id": "4Co1eQAh84BW",
        "outputId": "cb11d79a-2e5f-49f6-9028-d3af45615030"
      },
      "execution_count": 19,
      "outputs": [
        {
          "output_type": "stream",
          "name": "stdout",
          "text": [
            "Hi There\n"
          ]
        }
      ]
    },
    {
      "cell_type": "code",
      "source": [
        "a = 5\n",
        "print(f'Hello to you {a}') #string formatting for easy concatation of 2 different data types"
      ],
      "metadata": {
        "colab": {
          "base_uri": "https://localhost:8080/"
        },
        "id": "oFZeVIoZ89FH",
        "outputId": "f2d3d965-57b0-448d-ed51-83e000d11223"
      },
      "execution_count": 21,
      "outputs": [
        {
          "output_type": "stream",
          "name": "stdout",
          "text": [
            "Hello to you 5\n"
          ]
        }
      ]
    },
    {
      "cell_type": "markdown",
      "source": [
        "Boolean type #do this or that True/ False"
      ],
      "metadata": {
        "id": "jwib147l9r-V"
      }
    },
    {
      "cell_type": "code",
      "source": [
        "a = 4\n",
        "b = 5\n",
        "a < b"
      ],
      "metadata": {
        "colab": {
          "base_uri": "https://localhost:8080/"
        },
        "id": "bGnoc4jv9uy6",
        "outputId": "b3f8b080-2637-42bb-eb14-a900cd992642"
      },
      "execution_count": 22,
      "outputs": [
        {
          "output_type": "execute_result",
          "data": {
            "text/plain": [
              "True"
            ]
          },
          "metadata": {},
          "execution_count": 22
        }
      ]
    },
    {
      "cell_type": "code",
      "source": [
        "True and False"
      ],
      "metadata": {
        "colab": {
          "base_uri": "https://localhost:8080/"
        },
        "id": "4RfPcKoQ-Uvk",
        "outputId": "cfaadc06-c921-424b-c1ca-0e49e1b1f88a"
      },
      "execution_count": 23,
      "outputs": [
        {
          "output_type": "execute_result",
          "data": {
            "text/plain": [
              "False"
            ]
          },
          "metadata": {},
          "execution_count": 23
        }
      ]
    },
    {
      "cell_type": "code",
      "source": [
        "False and False"
      ],
      "metadata": {
        "colab": {
          "base_uri": "https://localhost:8080/"
        },
        "id": "-oFwY8We-Zc6",
        "outputId": "74b24101-4e7e-4233-d0b0-5e148bdae9d4"
      },
      "execution_count": 24,
      "outputs": [
        {
          "output_type": "execute_result",
          "data": {
            "text/plain": [
              "False"
            ]
          },
          "metadata": {},
          "execution_count": 24
        }
      ]
    },
    {
      "cell_type": "code",
      "source": [
        "True or True"
      ],
      "metadata": {
        "colab": {
          "base_uri": "https://localhost:8080/"
        },
        "id": "a2c8IlZs-bBx",
        "outputId": "7bc95b32-c72a-42c5-c3cd-8d04535df5ef"
      },
      "execution_count": 25,
      "outputs": [
        {
          "output_type": "execute_result",
          "data": {
            "text/plain": [
              "True"
            ]
          },
          "metadata": {},
          "execution_count": 25
        }
      ]
    },
    {
      "cell_type": "markdown",
      "source": [
        "# Project - Calculations"
      ],
      "metadata": {
        "id": "dZOy8hR5_BFQ"
      }
    },
    {
      "cell_type": "markdown",
      "source": [
        "KGs to Pounds"
      ],
      "metadata": {
        "id": "QkzIHfQ__Ppw"
      }
    },
    {
      "cell_type": "code",
      "source": [
        "KGs = float(input('Enter KGs for conversion: '))\n",
        "KGs_to_pounds = 2.2046\n",
        "pounds = KGs * KGs_to_pounds\n",
        "print(f'{KGs} KGs is {pounds} pounds')"
      ],
      "metadata": {
        "colab": {
          "base_uri": "https://localhost:8080/"
        },
        "id": "xFp6Llqj_R06",
        "outputId": "27439bb5-4ee5-42c8-fb96-7f25047b39f7"
      },
      "execution_count": 27,
      "outputs": [
        {
          "output_type": "stream",
          "name": "stdout",
          "text": [
            "Enter KGs for conversion: 1\n",
            "1.0 KGs is 2.2046 pounds\n"
          ]
        }
      ]
    },
    {
      "cell_type": "markdown",
      "source": [
        "*Circumference of Circle*"
      ],
      "metadata": {
        "id": "Ua44M8oW_r8J"
      }
    },
    {
      "cell_type": "markdown",
      "source": [
        ""
      ],
      "metadata": {
        "id": "nUyJPWA9B5XJ"
      }
    },
    {
      "cell_type": "code",
      "source": [
        "radius = float(input('Enter the radius: '))\n",
        "PI = 3.14\n",
        "circumference = 2 * PI * radius\n",
        "print(f'If radius is {radius}, then circumference of circle is {circumference}')"
      ],
      "metadata": {
        "colab": {
          "base_uri": "https://localhost:8080/"
        },
        "id": "mW9V85rGATYr",
        "outputId": "ad907350-f10d-4fc0-c982-e6942d695a64"
      },
      "execution_count": 30,
      "outputs": [
        {
          "output_type": "stream",
          "name": "stdout",
          "text": [
            "Enter the radius: 3\n",
            "If radius is 3.0, then circumference of circle is 18.84\n"
          ]
        }
      ]
    },
    {
      "cell_type": "markdown",
      "source": [
        "Answer is always 2!"
      ],
      "metadata": {
        "id": "JMAn-6hrBXRy"
      }
    },
    {
      "cell_type": "code",
      "source": [
        "x = int(input('Enter a number: '))\n",
        "mid_step = ((x * 3) + 6) / 3\n",
        "answer = mid_step - x\n",
        "print(answer)"
      ],
      "metadata": {
        "colab": {
          "base_uri": "https://localhost:8080/"
        },
        "id": "riXYI6HSBPlL",
        "outputId": "c68900f6-2fb6-4b24-a0ac-c3535f3423db"
      },
      "execution_count": 35,
      "outputs": [
        {
          "output_type": "stream",
          "name": "stdout",
          "text": [
            "Enter a number: 6\n",
            "2.0\n"
          ]
        }
      ]
    }
  ]
}