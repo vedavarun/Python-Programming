{
  "nbformat": 4,
  "nbformat_minor": 0,
  "metadata": {
    "colab": {
      "name": "Copy of Randomness&games.ipynb",
      "provenance": [],
      "collapsed_sections": [],
      "authorship_tag": "ABX9TyNG/Y31Lv7MZ5487IP94mxh",
      "include_colab_link": true
    },
    "kernelspec": {
      "name": "python3",
      "display_name": "Python 3"
    },
    "language_info": {
      "name": "python"
    }
  },
  "cells": [
    {
      "cell_type": "markdown",
      "metadata": {
        "id": "view-in-github",
        "colab_type": "text"
      },
      "source": [
        "<a href=\"https://colab.research.google.com/github/vedavarun/Python-Programming/blob/main/Lesson4.ipynb\" target=\"_parent\"><img src=\"https://colab.research.google.com/assets/colab-badge.svg\" alt=\"Open In Colab\"/></a>"
      ]
    },
    {
      "cell_type": "markdown",
      "source": [
        "# Random Library and games"
      ],
      "metadata": {
        "id": "CcwtPCbuVgVL"
      }
    },
    {
      "cell_type": "code",
      "source": [
        "import random #package name"
      ],
      "metadata": {
        "id": "PwAnhHIMWBMm"
      },
      "execution_count": 1,
      "outputs": []
    },
    {
      "cell_type": "code",
      "source": [
        "random.randint(1,6) #a die roll between 1 and 6"
      ],
      "metadata": {
        "colab": {
          "base_uri": "https://localhost:8080/"
        },
        "id": "ppbH6IaYWbqP",
        "outputId": "07dacafa-8f8f-4811-8d8d-31887b058162"
      },
      "execution_count": 2,
      "outputs": [
        {
          "output_type": "execute_result",
          "data": {
            "text/plain": [
              "1"
            ]
          },
          "metadata": {},
          "execution_count": 2
        }
      ]
    },
    {
      "cell_type": "markdown",
      "source": [
        "# Project"
      ],
      "metadata": {
        "id": "QqDp8X18Wf_O"
      }
    },
    {
      "cell_type": "markdown",
      "source": [
        "Math game - correct or not!"
      ],
      "metadata": {
        "id": "eZwagS3pXIpK"
      }
    },
    {
      "cell_type": "code",
      "source": [
        "import random\n",
        "num1 = random.randint(1,10)\n",
        "num2 = random.randint(1,10)\n",
        "\n",
        "user_answer = int(input(f'What is the multiplication of {num1} and {num2} ? : '))\n",
        "answer = num1 * num2\n",
        "if user_answer == answer:\n",
        "  print('Hurrah! You got it right!')\n",
        "else:\n",
        "  print('UhOhh - that is wrong. Please try again!')"
      ],
      "metadata": {
        "colab": {
          "base_uri": "https://localhost:8080/"
        },
        "id": "ps7izGx7XLoS",
        "outputId": "729318c0-5217-4b7c-bd11-57e2e2412a8f"
      },
      "execution_count": 6,
      "outputs": [
        {
          "output_type": "stream",
          "name": "stdout",
          "text": [
            "What is the multiplication of 5 and 5 ? : 25\n",
            "Hurrah! You got it right!\n"
          ]
        }
      ]
    },
    {
      "cell_type": "markdown",
      "source": [
        "Rock, Paper, Scissors game!"
      ],
      "metadata": {
        "id": "Lk7YvESIXNOV"
      }
    },
    {
      "cell_type": "code",
      "source": [
        "user_input = str(input('Enter your choice from Rock, Paper, Scissors: '))\n",
        "user_choice = ['Rock', 'Paper', 'Scissors']\n",
        "if user_input in user_choice:\n",
        "  computer_selection = random.choice(['Rock', 'Paper', 'Scissors'])\n",
        "  print('computer selection: ', computer_selection)\n",
        "  if user_input == computer_selection:\n",
        "    print('Draw match')\n",
        "  elif user_input == 'Rock':\n",
        "    if computer_selection == 'Paper':\n",
        "      print('Computer Won - Paper beats Rock!!')\n",
        "    elif computer_selection == 'Scissors':\n",
        "      print('You won - Rock beats scissors')\n",
        "  elif user_input == 'Paper':\n",
        "    if computer_selection == 'Rock':\n",
        "      print('You Won - Paper beats Rock!!')\n",
        "    elif computer_selection == 'Scissors':\n",
        "      print('Computer won - Scissors beats Paper')\n",
        "  elif user_input == 'Scissors':\n",
        "    if computer_selection == 'Rock':\n",
        "      print('Computer Won - Rock beats Scissors!!')\n",
        "    elif computer_selection == 'Paper':\n",
        "      print('You won - Scissors beats Paper')\n",
        "\n",
        "else:\n",
        "  print('Please type only Rock, Paper or Scissors! ')\n",
        "  \n"
      ],
      "metadata": {
        "colab": {
          "base_uri": "https://localhost:8080/"
        },
        "id": "IGCIWm17YQxa",
        "outputId": "76a9a62f-f094-496b-ca18-3ef49adc4c2b"
      },
      "execution_count": 11,
      "outputs": [
        {
          "output_type": "stream",
          "name": "stdout",
          "text": [
            "Enter your choice from Rock, Paper, Scissors: Scissors\n",
            "computer selection:  Rock\n",
            "Computer Won - Rock beats Scissors!!\n"
          ]
        }
      ]
    },
    {
      "cell_type": "code",
      "source": [
        ""
      ],
      "metadata": {
        "id": "O5YhqbNKdiGr"
      },
      "execution_count": null,
      "outputs": []
    }
  ]
}